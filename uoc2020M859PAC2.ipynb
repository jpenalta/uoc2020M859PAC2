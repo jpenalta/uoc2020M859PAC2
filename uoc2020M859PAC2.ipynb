{
 "cells": [
  {
   "cell_type": "code",
   "execution_count": 1,
   "id": "c6589584",
   "metadata": {},
   "outputs": [],
   "source": [
    "import numpy as np\n",
    "import pandas as pd\n",
    "import matplotlib.pyplot as plt\n",
    "from datetime import datetime\n",
    "\n",
    "dtypes = {\n",
    "    \"Con\": \"category\",\n",
    "    \"Contp\": \"category\",\n",
    "    \"Reg\": \"category\",\n",
    "    \"Stage\":\"category\"\n",
    "}\n",
    "\n",
    "custom_date_parser = lambda x: datetime.strptime(x, \"%Y-%m-%d\")\n",
    "\n",
    "df_pax = pd.read_csv(\n",
    "    \"csv_in/pax_data_1868_agreements_17-04-21.csv\",\n",
    "    dtype=dtypes,\n",
    "    parse_dates=['Dat'],\n",
    "     date_parser=custom_date_parser\n",
    ")\n",
    "\n",
    "df_gender_pax = pd.read_csv('csv_in/pax_data_371_agreements_15-04-21.csv',\n",
    "    dtype=dtypes,\n",
    "    parse_dates=['Dat'],\n",
    "    date_parser=custom_date_parser\n",
    ")"
   ]
  },
  {
   "cell_type": "code",
   "execution_count": 2,
   "id": "523c6b0a",
   "metadata": {},
   "outputs": [
    {
     "name": "stdout",
     "output_type": "stream",
     "text": [
      "<class 'pandas.core.frame.DataFrame'>\n",
      "RangeIndex: 1868 entries, 0 to 1867\n",
      "Columns: 267 entries, Con to ImSrc\n",
      "dtypes: category(4), datetime64[ns](1), float64(5), int64(245), object(12)\n",
      "memory usage: 3.8+ MB\n"
     ]
    }
   ],
   "source": [
    "df_pax.info()"
   ]
  },
  {
   "cell_type": "code",
   "execution_count": 3,
   "id": "eb07db70",
   "metadata": {},
   "outputs": [
    {
     "name": "stdout",
     "output_type": "stream",
     "text": [
      "<class 'pandas.core.frame.DataFrame'>\n",
      "RangeIndex: 371 entries, 0 to 370\n",
      "Data columns (total 80 columns):\n",
      " #   Column         Non-Null Count  Dtype         \n",
      "---  ------         --------------  -----         \n",
      " 0   Con            371 non-null    category      \n",
      " 1   Contp          371 non-null    category      \n",
      " 2   PP             371 non-null    int64         \n",
      " 3   PPName         371 non-null    object        \n",
      " 4   Reg            371 non-null    category      \n",
      " 5   AgtId          371 non-null    int64         \n",
      " 6   Ver            371 non-null    int64         \n",
      " 7   Agt            371 non-null    object        \n",
      " 8   Dat            371 non-null    datetime64[ns]\n",
      " 9   Status         371 non-null    object        \n",
      " 10  Lgt            371 non-null    int64         \n",
      " 11  N_characters   371 non-null    int64         \n",
      " 12  Agtp           371 non-null    object        \n",
      " 13  Stage          371 non-null    category      \n",
      " 14  StageSub       366 non-null    object        \n",
      " 15  Part           366 non-null    object        \n",
      " 16  ThrdPart       220 non-null    object        \n",
      " 17  OthAgr         220 non-null    object        \n",
      " 18  Loc1ISO        366 non-null    object        \n",
      " 19  Loc2ISO        24 non-null     object        \n",
      " 20  Loc1GWNO       367 non-null    float64       \n",
      " 21  Loc2GWNO       24 non-null     float64       \n",
      " 22  UcdpCon        319 non-null    float64       \n",
      " 23  UcdpAgr        100 non-null    float64       \n",
      " 24  PamAgr         16 non-null     float64       \n",
      " 25  CowWar         214 non-null    float64       \n",
      " 26  Interim        371 non-null    object        \n",
      " 27  WggPar         371 non-null    int64         \n",
      " 28  WggGenQuot     371 non-null    int64         \n",
      " 29  WggEffPart     371 non-null    int64         \n",
      " 30  WggCitizen     371 non-null    int64         \n",
      " 31  WggParOth      371 non-null    int64         \n",
      " 32  WggEq          371 non-null    int64         \n",
      " 33  WggEqGen       371 non-null    int64         \n",
      " 34  WggSocEq       371 non-null    int64         \n",
      " 35  WggEqOth       371 non-null    int64         \n",
      " 36  WggGrp         371 non-null    int64         \n",
      " 37  WggIndNom      371 non-null    int64         \n",
      " 38  WggRefDisp     371 non-null    int64         \n",
      " 39  WggPreg        371 non-null    int64         \n",
      " 40  WggGrpOth      371 non-null    int64         \n",
      " 41  WggIntLaw      371 non-null    int64         \n",
      " 42  WggHR          371 non-null    int64         \n",
      " 43  WggHrSta       371 non-null    int64         \n",
      " 44  WggUnsc        371 non-null    int64         \n",
      " 45  WggIntLawOth   371 non-null    int64         \n",
      " 46  WggNewInst     371 non-null    int64         \n",
      " 47  WggInstWom     371 non-null    int64         \n",
      " 48  WggInf         371 non-null    int64         \n",
      " 49  WggRecon       371 non-null    int64         \n",
      " 50  WggNewInstOth  371 non-null    int64         \n",
      " 51  WggVio         371 non-null    int64         \n",
      " 52  WggVioSex      371 non-null    int64         \n",
      " 53  WggVioGen      371 non-null    int64         \n",
      " 54  WggVioProt     371 non-null    int64         \n",
      " 55  WggVioOth      371 non-null    int64         \n",
      " 56  WggTraJus      371 non-null    int64         \n",
      " 57  WggPast        371 non-null    int64         \n",
      " 58  WggPri         371 non-null    int64         \n",
      " 59  WggTraJusOth   371 non-null    int64         \n",
      " 60  WggInstRef     371 non-null    int64         \n",
      " 61  WggConst       371 non-null    int64         \n",
      " 62  WggLawRef      371 non-null    int64         \n",
      " 63  WggJud         371 non-null    int64         \n",
      " 64  WggPol         371 non-null    int64         \n",
      " 65  WggDdr         371 non-null    int64         \n",
      " 66  WggPubAdm      371 non-null    int64         \n",
      " 67  WggInstRefOth  371 non-null    int64         \n",
      " 68  WggDev         371 non-null    int64         \n",
      " 69  WggDevGen      371 non-null    int64         \n",
      " 70  WggRehab       371 non-null    int64         \n",
      " 71  WggEdu         371 non-null    int64         \n",
      " 72  WggHea         371 non-null    int64         \n",
      " 73  WggRepro       371 non-null    int64         \n",
      " 74  WggDevOth      371 non-null    int64         \n",
      " 75  WggImpl        371 non-null    int64         \n",
      " 76  WggImplRole    371 non-null    int64         \n",
      " 77  WggImplSign    371 non-null    int64         \n",
      " 78  WggImplOth     371 non-null    int64         \n",
      " 79  WggOth         371 non-null    int64         \n",
      "dtypes: category(4), datetime64[ns](1), float64(6), int64(58), object(11)\n",
      "memory usage: 225.1+ KB\n"
     ]
    }
   ],
   "source": [
    "df_gender_pax.info()"
   ]
  },
  {
   "cell_type": "code",
   "execution_count": 4,
   "id": "3af22a99",
   "metadata": {},
   "outputs": [
    {
     "data": {
      "text/plain": [
       "True"
      ]
     },
     "execution_count": 4,
     "metadata": {},
     "output_type": "execute_result"
    }
   ],
   "source": [
    "#Comprobación de que los casos que aparecen en el dataset de mujeres coinciden con los casos del dataset total.\n",
    "filtro = df_pax[\"GeWom\"] == 1\n",
    "df_pax.loc[filtro, \"Con\"].count() == df_gender_pax[\"Con\"].count()\n",
    "\n",
    "\n",
    "\n"
   ]
  },
  {
   "cell_type": "code",
   "execution_count": 5,
   "id": "a38d23a0",
   "metadata": {},
   "outputs": [
    {
     "ename": "AttributeError",
     "evalue": "'DataFrame' object has no attribute 'isNull'",
     "output_type": "error",
     "traceback": [
      "\u001b[0;31m---------------------------------------------------------------------------\u001b[0m",
      "\u001b[0;31mAttributeError\u001b[0m                            Traceback (most recent call last)",
      "\u001b[0;32m<ipython-input-5-a8e000566d93>\u001b[0m in \u001b[0;36m<module>\u001b[0;34m\u001b[0m\n\u001b[1;32m      1\u001b[0m \u001b[0;31m#Valores nulos en las vases de datos\u001b[0m\u001b[0;34m\u001b[0m\u001b[0;34m\u001b[0m\u001b[0;34m\u001b[0m\u001b[0m\n\u001b[0;32m----> 2\u001b[0;31m \u001b[0mdf_pax\u001b[0m\u001b[0;34m.\u001b[0m\u001b[0misNull\u001b[0m\u001b[0;34m(\u001b[0m\u001b[0;34m)\u001b[0m\u001b[0;34m\u001b[0m\u001b[0;34m\u001b[0m\u001b[0m\n\u001b[0m",
      "\u001b[0;32m~/anaconda3/envs/uoc2020M859PAC2/lib/python3.9/site-packages/pandas/core/generic.py\u001b[0m in \u001b[0;36m__getattr__\u001b[0;34m(self, name)\u001b[0m\n\u001b[1;32m   5460\u001b[0m             \u001b[0;32mif\u001b[0m \u001b[0mself\u001b[0m\u001b[0;34m.\u001b[0m\u001b[0m_info_axis\u001b[0m\u001b[0;34m.\u001b[0m\u001b[0m_can_hold_identifiers_and_holds_name\u001b[0m\u001b[0;34m(\u001b[0m\u001b[0mname\u001b[0m\u001b[0;34m)\u001b[0m\u001b[0;34m:\u001b[0m\u001b[0;34m\u001b[0m\u001b[0;34m\u001b[0m\u001b[0m\n\u001b[1;32m   5461\u001b[0m                 \u001b[0;32mreturn\u001b[0m \u001b[0mself\u001b[0m\u001b[0;34m[\u001b[0m\u001b[0mname\u001b[0m\u001b[0;34m]\u001b[0m\u001b[0;34m\u001b[0m\u001b[0;34m\u001b[0m\u001b[0m\n\u001b[0;32m-> 5462\u001b[0;31m             \u001b[0;32mreturn\u001b[0m \u001b[0mobject\u001b[0m\u001b[0;34m.\u001b[0m\u001b[0m__getattribute__\u001b[0m\u001b[0;34m(\u001b[0m\u001b[0mself\u001b[0m\u001b[0;34m,\u001b[0m \u001b[0mname\u001b[0m\u001b[0;34m)\u001b[0m\u001b[0;34m\u001b[0m\u001b[0;34m\u001b[0m\u001b[0m\n\u001b[0m\u001b[1;32m   5463\u001b[0m \u001b[0;34m\u001b[0m\u001b[0m\n\u001b[1;32m   5464\u001b[0m     \u001b[0;32mdef\u001b[0m \u001b[0m__setattr__\u001b[0m\u001b[0;34m(\u001b[0m\u001b[0mself\u001b[0m\u001b[0;34m,\u001b[0m \u001b[0mname\u001b[0m\u001b[0;34m:\u001b[0m \u001b[0mstr\u001b[0m\u001b[0;34m,\u001b[0m \u001b[0mvalue\u001b[0m\u001b[0;34m)\u001b[0m \u001b[0;34m->\u001b[0m \u001b[0;32mNone\u001b[0m\u001b[0;34m:\u001b[0m\u001b[0;34m\u001b[0m\u001b[0;34m\u001b[0m\u001b[0m\n",
      "\u001b[0;31mAttributeError\u001b[0m: 'DataFrame' object has no attribute 'isNull'"
     ]
    }
   ],
   "source": [
    "#Valores nulos en las vases de datos\n",
    "df_pax.isNull()\n"
   ]
  },
  {
   "cell_type": "code",
   "execution_count": null,
   "id": "9de532ef",
   "metadata": {},
   "outputs": [],
   "source": [
    "# Evolución anual porcentual del número de tratados con referencias a mujeres\n",
    "by_year = df_pax.groupby([df_pax['Dat'].dt.year])\n",
    "\n",
    "geWon_by_year = by_year[\"GeWom\"].agg([\"sum\",\"count\"]).reset_index()\n",
    "\n",
    "geWon_by_year.to_csv(\"csv_out/agrupados_total.csv\")\n"
   ]
  },
  {
   "cell_type": "code",
   "execution_count": null,
   "id": "add434f0",
   "metadata": {},
   "outputs": [],
   "source": [
    "fig,ax=plt.subplots(figsize=(10,8))\n",
    "\n",
    "ax.plot(geWon_by_year.reset_index()[\"Dat\"], geWon_by_year[\"sum\"]*100/geWon_by_year[\"count\"])"
   ]
  },
  {
   "cell_type": "code",
   "execution_count": null,
   "id": "7cba1c31",
   "metadata": {},
   "outputs": [],
   "source": [
    "# Evolución anual porcentual por región del número de tratados con referencias a mujeres\n",
    "\n",
    "fig,ax=plt.subplots(6,1,figsize=(10,10))\n",
    "for i,reg in enumerate(df_pax[\"Reg\"].cat.categories):\n",
    "    df_reg = df_pax.loc[df_pax[\"Reg\"]==reg]\n",
    "    \n",
    "    geWon_reg_by_year = df_reg.groupby([df_reg['Dat'].dt.year])[\"GeWom\"].agg([\"sum\",\"count\"]).reset_index()\n",
    "    geWon_reg_by_year.to_csv(\"csv_out/agrupados_total_{0}.csv\".format(reg))\n",
    "    \n",
    "    \n",
    "    ax[i].plot(geWon_reg_by_year.reset_index()[\"Dat\"], geWon_reg_by_year[\"sum\"]*100/geWon_reg_by_year[\"count\"])\n",
    "    ax[i].set_title(reg)\n",
    "\n",
    "\n"
   ]
  },
  {
   "cell_type": "code",
   "execution_count": null,
   "id": "b4bd4674",
   "metadata": {},
   "outputs": [],
   "source": [
    "# Total de tratados firmados antes y despues del 2001\n",
    "filtro_T_pre_UNSCR1325 = df_pax['Dat'].dt.year <2001\n",
    "filtro_T_pos_UNSCR1325 = df_pax['Dat'].dt.year >=2001\n",
    "pre_UNSCR1325 = df_pax.loc[filtro_T_pre_UNSCR1325, \"Con\"].count()\n",
    "pos_UNSCR1325 = df_pax.loc[filtro_T_pos_UNSCR1325, \"Con\"].count()\n",
    "\n",
    "print(\"Totales pre UNSCR1325: {0} - Totales pos UNSCR1325: {1}\".format(pre_UNSCR1325,pos_UNSCR1325))"
   ]
  },
  {
   "cell_type": "code",
   "execution_count": null,
   "id": "4e2e29ee",
   "metadata": {},
   "outputs": [],
   "source": [
    "# Total de tratados con referencias a mujeres  antes y despues del 2001\n",
    "filtro_W_pre_UNSCR1325 = df_gender_pax['Dat'].dt.year <2001\n",
    "filtro_W_pos_UNSCR1325 = df_gender_pax['Dat'].dt.year >=2001\n",
    "pre_UNSCR1325 = df_gender_pax.loc[filtro_W_pre_UNSCR1325, \"Con\"].count()\n",
    "pos_UNSCR1325 = df_gender_pax.loc[filtro_W_pos_UNSCR1325, \"Con\"].count()\n",
    "\n",
    "print(\"Totales gender pre UNSCR1325: {0} - Totales gender pos UNSCR1325: {1}\".format(pre_UNSCR1325,pos_UNSCR1325))"
   ]
  },
  {
   "cell_type": "code",
   "execution_count": null,
   "id": "54763326",
   "metadata": {},
   "outputs": [],
   "source": [
    "# Total de referencias por cada bloque de la base de datos gender PAX\n",
    "bloques_pre_UNSCR1325_totales = df_gender_pax.loc[filtro_W_pre_UNSCR1325, [\"WggPar\",\"WggGrp\",\"WggIntLaw\",\"WggNewInst\",\"WggVio\",\"WggTraJus\",\"WggInstRef\",\"WggDdr\",\"WggDev\"]].agg([\"sum\",\"count\"])\n",
    "bloques_pre_UNSCR1325_totales.to_csv(\"csv_out/bloques_pre_UNSCR1325_totales.csv\")\n",
    "\n",
    "bloques_pos_UNSCR1325_totales = df_gender_pax.loc[filtro_W_pos_UNSCR1325, [\"WggPar\",\"WggGrp\",\"WggIntLaw\",\"WggNewInst\",\"WggVio\",\"WggTraJus\",\"WggInstRef\",\"WggDdr\",\"WggDev\"]].agg([\"sum\",\"count\"])\n",
    "bloques_pos_UNSCR1325_totales.to_csv(\"csv_out/bloques_pos_UNSCR1325_totales.csv\")"
   ]
  },
  {
   "cell_type": "code",
   "execution_count": null,
   "id": "8cf3a7db",
   "metadata": {},
   "outputs": [],
   "source": [
    "# referencias a violencia de genero en gender PAX\n",
    "WggVio_pre_UNSCR1325_totales = df_gender_pax.loc[filtro_W_pre_UNSCR1325, [\"WggVio\",\"WggVioSex\",\"WggVioGen\",\"WggVioProt\",\"WggVioOth\"]].agg([\"sum\",\"count\"])\n",
    "WggVio_pre_UNSCR1325_totales.to_csv(\"csv_out/WggVio_pre_UNSCR1325_totales.csv\")\n",
    "\n",
    "WggVio_pos_UNSCR1325_totales = df_gender_pax.loc[filtro_W_pos_UNSCR1325, [\"WggVio\",\"WggVioSex\",\"WggVioGen\",\"WggVioProt\",\"WggVioOth\"]].agg([\"sum\",\"count\"])\n",
    "WggVio_pos_UNSCR1325_totales.to_csv(\"csv_out/WggVio_pos_UNSCR1325_totales.csv\")\n"
   ]
  },
  {
   "cell_type": "code",
   "execution_count": null,
   "id": "ae2f24eb",
   "metadata": {},
   "outputs": [],
   "source": [
    "# referencias a Participacion en gender PAX\n",
    "WggPar_pre_UNSCR1325_totales = df_gender_pax.loc[filtro_W_pre_UNSCR1325, [\"WggPar\",\"WggGenQuot\",\"WggEffPart\",\"WggCitizen\",\"WggParOth\"]].agg([\"sum\",\"count\"])\n",
    "WggPar_pre_UNSCR1325_totales.to_csv(\"csv_out/WggPar_pre_UNSCR1325_totales.csv\")\n",
    "\n",
    "WggPar_pos_UNSCR1325_totales = df_gender_pax.loc[filtro_W_pos_UNSCR1325, [\"WggPar\",\"WggGenQuot\",\"WggEffPart\",\"WggCitizen\",\"WggParOth\"]].agg([\"sum\",\"count\"])\n",
    "WggPar_pos_UNSCR1325_totales.to_csv(\"csv_out/WggPar_pos_UNSCR1325_totales.csv\")\n"
   ]
  },
  {
   "cell_type": "code",
   "execution_count": null,
   "id": "01eb5009",
   "metadata": {},
   "outputs": [],
   "source": []
  },
  {
   "cell_type": "code",
   "execution_count": null,
   "id": "def7486d",
   "metadata": {},
   "outputs": [],
   "source": []
  }
 ],
 "metadata": {
  "kernelspec": {
   "display_name": "Python 3",
   "language": "python",
   "name": "python3"
  },
  "language_info": {
   "codemirror_mode": {
    "name": "ipython",
    "version": 3
   },
   "file_extension": ".py",
   "mimetype": "text/x-python",
   "name": "python",
   "nbconvert_exporter": "python",
   "pygments_lexer": "ipython3",
   "version": "3.9.1"
  }
 },
 "nbformat": 4,
 "nbformat_minor": 5
}
